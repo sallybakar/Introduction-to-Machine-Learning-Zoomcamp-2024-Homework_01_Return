{
 "cells": [
  {
   "cell_type": "markdown",
   "id": "b668fd46-9ca2-43fd-8a75-ea962377c4d8",
   "metadata": {},
   "source": [
    "## Homework: 01\n",
    "The main goal of this assignment is to set up a Python environment and perform some basic data analysis tasks using foundational libraries like Pandas, NumPy, Matplotlib, and Seaborn. This setup is fundamental for working on machine learning projects, enabling efficient data manipulation, analysis, and visualization.\r\n",
    "\r\n",
    "### Set up the environment\r\n",
    "\r\n",
    "You need to install Python, NumPy, Pandas, Matplotlib and Seaborn. For that, you use can the instructions from\r\n",
    "[06-environment.md](../../../01-intro/06-environment.md)."
   ]
  },
  {
   "cell_type": "code",
   "execution_count": 1,
   "id": "8e02d320-7d15-4250-89d5-11f15ebbe229",
   "metadata": {},
   "outputs": [],
   "source": [
    "# Import required modules.\n",
    "import numpy as np\n",
    "import pandas as pd"
   ]
  },
  {
   "cell_type": "markdown",
   "id": "f43e7387-8d7f-4680-b566-9e437e9c55d8",
   "metadata": {},
   "source": [
    "### Q1. Pandas version\r\n",
    "What's the version of Pandas that you installed?\r\n",
    "\r\n",
    "You can get the version information using the __version__ field:"
   ]
  },
  {
   "cell_type": "code",
   "execution_count": 2,
   "id": "70cb005a-1459-483b-b7d5-696ca015a036",
   "metadata": {},
   "outputs": [
    {
     "data": {
      "text/plain": [
       "'2.2.2'"
      ]
     },
     "execution_count": 2,
     "metadata": {},
     "output_type": "execute_result"
    }
   ],
   "source": [
    "pd.__version__\n"
   ]
  },
  {
   "cell_type": "markdown",
   "id": "97e793fe-de7f-4d4b-9422-60efb5b28468",
   "metadata": {},
   "source": [
    "Question 01 Answer= '2.2.2'"
   ]
  },
  {
   "cell_type": "markdown",
   "id": "1e802de2-d29a-4ad2-a220-c492214caf73",
   "metadata": {},
   "source": [
    "### Getting the data \r\n",
    "\r\n",
    "For this homework, we'll use the Laptops Price dataset. Download it from \r\n",
    "[here](https://raw.githubusercontent.com/alexeygrigorev/datasets/master/laptops.csv).\r\n",
    "\r\n",
    "You can do it with wget:\r\n",
    "\r\n",
    "```bash\r\n",
    "wget https://raw.githubusercontent.com/alexeygrigorev/datasets/master/laptops.csv"
   ]
  },
  {
   "cell_type": "code",
   "execution_count": 3,
   "id": "2c52a2ef-eebd-4d50-9128-2d655d217cc0",
   "metadata": {},
   "outputs": [
    {
     "name": "stdout",
     "output_type": "stream",
     "text": [
      "File downloaded successfully at /home/awsl/ML_Zoomcamp_2024_Modules/data/laptops.csv\n"
     ]
    }
   ],
   "source": [
    "import os # (Use Python’s \"os.makedirs\" function to create the directory since it doesn't exist yet.)\n",
    "import requests #(Use Python's requests library as an Alternative to download the file because this environment doesn't support \"wget\")\n",
    "\n",
    "# URL of the file to be downloaded\n",
    "url = \"https://raw.githubusercontent.com/alexeygrigorev/datasets/master/laptops.csv\"\n",
    "\n",
    "# Path where the file will be saved\n",
    "file_path = '/home/awsl/ML_Zoomcamp_2024_Modules/data/laptops.csv'\n",
    "\n",
    "# Ensure the directory exists, create it if necessary\n",
    "os.makedirs(os.path.dirname(file_path), exist_ok=True)\n",
    "\n",
    "# Download the file using requests\n",
    "response = requests.get(url)\n",
    "\n",
    "# Write the content to a file\n",
    "with open(file_path, 'wb') as f:\n",
    "    f.write(response.content)\n",
    "\n",
    "print(f\"File downloaded successfully at {file_path}\")\n",
    "\n"
   ]
  },
  {
   "cell_type": "code",
   "execution_count": 4,
   "id": "a36d98c6-2359-45d6-86ce-748cc575fd75",
   "metadata": {},
   "outputs": [],
   "source": [
    "# Define the link to the data.\n",
    "df_link = '/home/awsl/ML_Zoomcamp_2024_Modules/data/laptops.csv'"
   ]
  },
  {
   "cell_type": "code",
   "execution_count": 5,
   "id": "f40a8a4f-7446-43e5-b163-abb58388d347",
   "metadata": {},
   "outputs": [],
   "source": [
    "data = pd.read_csv(df_link)"
   ]
  },
  {
   "cell_type": "code",
   "execution_count": 6,
   "id": "00a69c03-30c1-45c1-8abc-b3e97de7ed06",
   "metadata": {},
   "outputs": [
    {
     "data": {
      "text/html": [
       "<div>\n",
       "<style scoped>\n",
       "    .dataframe tbody tr th:only-of-type {\n",
       "        vertical-align: middle;\n",
       "    }\n",
       "\n",
       "    .dataframe tbody tr th {\n",
       "        vertical-align: top;\n",
       "    }\n",
       "\n",
       "    .dataframe thead th {\n",
       "        text-align: right;\n",
       "    }\n",
       "</style>\n",
       "<table border=\"1\" class=\"dataframe\">\n",
       "  <thead>\n",
       "    <tr style=\"text-align: right;\">\n",
       "      <th></th>\n",
       "      <th>Laptop</th>\n",
       "      <th>Status</th>\n",
       "      <th>Brand</th>\n",
       "      <th>Model</th>\n",
       "      <th>CPU</th>\n",
       "      <th>RAM</th>\n",
       "      <th>Storage</th>\n",
       "      <th>Storage type</th>\n",
       "      <th>GPU</th>\n",
       "      <th>Screen</th>\n",
       "      <th>Touch</th>\n",
       "      <th>Final Price</th>\n",
       "    </tr>\n",
       "  </thead>\n",
       "  <tbody>\n",
       "    <tr>\n",
       "      <th>0</th>\n",
       "      <td>ASUS ExpertBook B1 B1502CBA-EJ0436X Intel Core...</td>\n",
       "      <td>New</td>\n",
       "      <td>Asus</td>\n",
       "      <td>ExpertBook</td>\n",
       "      <td>Intel Core i5</td>\n",
       "      <td>8</td>\n",
       "      <td>512</td>\n",
       "      <td>SSD</td>\n",
       "      <td>NaN</td>\n",
       "      <td>15.6</td>\n",
       "      <td>No</td>\n",
       "      <td>1009.00</td>\n",
       "    </tr>\n",
       "    <tr>\n",
       "      <th>1</th>\n",
       "      <td>Alurin Go Start Intel Celeron N4020/8GB/256GB ...</td>\n",
       "      <td>New</td>\n",
       "      <td>Alurin</td>\n",
       "      <td>Go</td>\n",
       "      <td>Intel Celeron</td>\n",
       "      <td>8</td>\n",
       "      <td>256</td>\n",
       "      <td>SSD</td>\n",
       "      <td>NaN</td>\n",
       "      <td>15.6</td>\n",
       "      <td>No</td>\n",
       "      <td>299.00</td>\n",
       "    </tr>\n",
       "    <tr>\n",
       "      <th>2</th>\n",
       "      <td>ASUS ExpertBook B1 B1502CBA-EJ0424X Intel Core...</td>\n",
       "      <td>New</td>\n",
       "      <td>Asus</td>\n",
       "      <td>ExpertBook</td>\n",
       "      <td>Intel Core i3</td>\n",
       "      <td>8</td>\n",
       "      <td>256</td>\n",
       "      <td>SSD</td>\n",
       "      <td>NaN</td>\n",
       "      <td>15.6</td>\n",
       "      <td>No</td>\n",
       "      <td>789.00</td>\n",
       "    </tr>\n",
       "    <tr>\n",
       "      <th>3</th>\n",
       "      <td>MSI Katana GF66 12UC-082XES Intel Core i7-1270...</td>\n",
       "      <td>New</td>\n",
       "      <td>MSI</td>\n",
       "      <td>Katana</td>\n",
       "      <td>Intel Core i7</td>\n",
       "      <td>16</td>\n",
       "      <td>1000</td>\n",
       "      <td>SSD</td>\n",
       "      <td>RTX 3050</td>\n",
       "      <td>15.6</td>\n",
       "      <td>No</td>\n",
       "      <td>1199.00</td>\n",
       "    </tr>\n",
       "    <tr>\n",
       "      <th>4</th>\n",
       "      <td>HP 15S-FQ5085NS Intel Core i5-1235U/16GB/512GB...</td>\n",
       "      <td>New</td>\n",
       "      <td>HP</td>\n",
       "      <td>15S</td>\n",
       "      <td>Intel Core i5</td>\n",
       "      <td>16</td>\n",
       "      <td>512</td>\n",
       "      <td>SSD</td>\n",
       "      <td>NaN</td>\n",
       "      <td>15.6</td>\n",
       "      <td>No</td>\n",
       "      <td>669.01</td>\n",
       "    </tr>\n",
       "  </tbody>\n",
       "</table>\n",
       "</div>"
      ],
      "text/plain": [
       "                                              Laptop Status   Brand  \\\n",
       "0  ASUS ExpertBook B1 B1502CBA-EJ0436X Intel Core...    New    Asus   \n",
       "1  Alurin Go Start Intel Celeron N4020/8GB/256GB ...    New  Alurin   \n",
       "2  ASUS ExpertBook B1 B1502CBA-EJ0424X Intel Core...    New    Asus   \n",
       "3  MSI Katana GF66 12UC-082XES Intel Core i7-1270...    New     MSI   \n",
       "4  HP 15S-FQ5085NS Intel Core i5-1235U/16GB/512GB...    New      HP   \n",
       "\n",
       "        Model            CPU  RAM  Storage Storage type       GPU  Screen  \\\n",
       "0  ExpertBook  Intel Core i5    8      512          SSD       NaN    15.6   \n",
       "1          Go  Intel Celeron    8      256          SSD       NaN    15.6   \n",
       "2  ExpertBook  Intel Core i3    8      256          SSD       NaN    15.6   \n",
       "3      Katana  Intel Core i7   16     1000          SSD  RTX 3050    15.6   \n",
       "4         15S  Intel Core i5   16      512          SSD       NaN    15.6   \n",
       "\n",
       "  Touch  Final Price  \n",
       "0    No      1009.00  \n",
       "1    No       299.00  \n",
       "2    No       789.00  \n",
       "3    No      1199.00  \n",
       "4    No       669.01  "
      ]
     },
     "execution_count": 6,
     "metadata": {},
     "output_type": "execute_result"
    }
   ],
   "source": [
    "# Show the head of the data.\n",
    "data.head()"
   ]
  },
  {
   "cell_type": "markdown",
   "id": "18c704a8-f94e-4329-8eaf-6f7391ee3ead",
   "metadata": {},
   "source": [
    "### Q2. Records count\r\n",
    "\r\n",
    "How many records are in the dataset?\r\n",
    "\r\n",
    "- 12\r\n",
    "- 1000\r\n",
    "- 2160\r\n",
    "- 12160"
   ]
  },
  {
   "cell_type": "code",
   "execution_count": 7,
   "id": "f356c9ee-5f8f-438b-a793-f1a8f4233dcc",
   "metadata": {},
   "outputs": [
    {
     "data": {
      "text/plain": [
       "(2160, 12)"
      ]
     },
     "execution_count": 7,
     "metadata": {},
     "output_type": "execute_result"
    }
   ],
   "source": [
    "# Display the shape of the data.\n",
    "data.shape"
   ]
  },
  {
   "cell_type": "markdown",
   "id": "bf680a76-5219-4112-9f5b-210407250d95",
   "metadata": {},
   "source": [
    "Question 02 Answer= 2160"
   ]
  },
  {
   "cell_type": "markdown",
   "id": "968e4518-9251-4605-91f5-c0d46b52f42e",
   "metadata": {},
   "source": [
    "### Q3. Laptop brands\r\n",
    "\r\n",
    "How many laptop brands are presented in the dataset?\r\n",
    "\r\n",
    "- 12\r\n",
    "- 27\r\n",
    "- 28\r\n",
    "- 2160"
   ]
  },
  {
   "cell_type": "code",
   "execution_count": 8,
   "id": "ef6bb744-0896-4fb3-8631-8161980f7797",
   "metadata": {},
   "outputs": [
    {
     "data": {
      "text/plain": [
       "27"
      ]
     },
     "execution_count": 8,
     "metadata": {},
     "output_type": "execute_result"
    }
   ],
   "source": [
    "# Show number of brands.\n",
    "data.Brand.nunique()"
   ]
  },
  {
   "cell_type": "markdown",
   "id": "44c2d17c-b17a-453c-9d0d-ee94bfa6b50e",
   "metadata": {},
   "source": [
    "Question 03 Answer= 27"
   ]
  },
  {
   "cell_type": "markdown",
   "id": "8b7a610b-b48e-4bd4-ae0f-4a039eeb67cd",
   "metadata": {},
   "source": [
    "### Q4. Missing values\n",
    "\n",
    "How many columns in the dataset have missing values?\n",
    "\n",
    "- 0\n",
    "- 1\n",
    "- 2\n",
    "- 3"
   ]
  },
  {
   "cell_type": "code",
   "execution_count": 9,
   "id": "b6d1b019-a2c5-48a1-b44a-40a6af1f7f1c",
   "metadata": {},
   "outputs": [
    {
     "data": {
      "text/plain": [
       "3"
      ]
     },
     "execution_count": 9,
     "metadata": {},
     "output_type": "execute_result"
    }
   ],
   "source": [
    "# Check for missing values.\n",
    "missing_list = list(data.isna().sum())\n",
    "missing_com = [1 if x > 0 else 0 for x in missing_list]\n",
    "sum(missing_com)"
   ]
  },
  {
   "cell_type": "markdown",
   "id": "82c5875a-2864-4570-88e9-4e681da5d13c",
   "metadata": {},
   "source": [
    "Question 04 Answer= 3"
   ]
  },
  {
   "cell_type": "markdown",
   "id": "19e7596a-98e1-40cb-a625-153e3f616af7",
   "metadata": {},
   "source": [
    "### Q5. Maximum final price\n",
    "\n",
    "What's the maximum final price of Dell notebooks in the dataset?\n",
    "\n",
    "- 869\n",
    "- 3691\n",
    "- 3849\n",
    "- 3936"
   ]
  },
  {
   "cell_type": "code",
   "execution_count": 10,
   "id": "f7c34965-c536-4387-98e1-65769372ad02",
   "metadata": {},
   "outputs": [
    {
     "data": {
      "text/plain": [
       "3936.0"
      ]
     },
     "execution_count": 10,
     "metadata": {},
     "output_type": "execute_result"
    }
   ],
   "source": [
    "# Get maximum final price.\n",
    "data[data.Brand=='Dell']['Final Price'].max()"
   ]
  },
  {
   "cell_type": "markdown",
   "id": "593e1320-5e82-4b85-8c01-046356d8b1cc",
   "metadata": {},
   "source": [
    "Question 05 Answer= 3936"
   ]
  },
  {
   "cell_type": "markdown",
   "id": "71df17ad-6f89-4e13-916f-31da88b24955",
   "metadata": {},
   "source": [
    "### Q6. Median value of Screen\r\n",
    "\r\n",
    "1. Find the median value of `Screen` column in the dataset.\r\n",
    "2. Next, calculate the most frequent value of the same `Screen` column.\r\n",
    "3. Use `fillna` method to fill the missing values in `Screen` column with the most frequent value from the previous step.\r\n",
    "4. Now, calculate the median value of `Screen` once again.\r\n",
    "\r\n",
    "Has it changed?\r\n",
    "\r\n",
    "> Hint: refer to existing `mode` and `median` functions to complete the task.\r\n",
    "\r\n",
    "- Yes\r\n",
    "- No\r\n"
   ]
  },
  {
   "cell_type": "code",
   "execution_count": 11,
   "id": "3fe6be1e-f5de-410a-8d8a-fb3022e9eca1",
   "metadata": {},
   "outputs": [
    {
     "data": {
      "text/plain": [
       "15.6"
      ]
     },
     "execution_count": 11,
     "metadata": {},
     "output_type": "execute_result"
    }
   ],
   "source": [
    "# Get the median of the Screen column.\n",
    "screen_med01 = data.Screen.median()\n",
    "screen_med01"
   ]
  },
  {
   "cell_type": "code",
   "execution_count": 12,
   "id": "9f77653d-4c93-4182-ae18-7c6c5a64377b",
   "metadata": {},
   "outputs": [
    {
     "data": {
      "text/plain": [
       "0    15.6\n",
       "Name: Screen, dtype: float64"
      ]
     },
     "execution_count": 12,
     "metadata": {},
     "output_type": "execute_result"
    }
   ],
   "source": [
    "# Get the mode of the Screen column.\n",
    "screen_mod = data.Screen.mode()\n",
    "screen_mod"
   ]
  },
  {
   "cell_type": "code",
   "execution_count": 13,
   "id": "2c918c7a-8b02-4ac9-ba4a-2ea56c3417b3",
   "metadata": {},
   "outputs": [],
   "source": [
    "# Fill the missing values in the Screen column.\n",
    "data.fillna({'Screen': screen_mod}, inplace=True)"
   ]
  },
  {
   "cell_type": "code",
   "execution_count": 14,
   "id": "d9842530-a90c-464f-a276-c2cc2af6ea4c",
   "metadata": {},
   "outputs": [
    {
     "data": {
      "text/plain": [
       "15.6"
      ]
     },
     "execution_count": 14,
     "metadata": {},
     "output_type": "execute_result"
    }
   ],
   "source": [
    "# Get the median of the Screen column again.\n",
    "screen_med02 = data.Screen.median()\n",
    "screen_med02"
   ]
  },
  {
   "cell_type": "code",
   "execution_count": 15,
   "id": "e1391d60-7c07-45c5-a025-6db00357ccf3",
   "metadata": {},
   "outputs": [
    {
     "data": {
      "text/plain": [
       "True"
      ]
     },
     "execution_count": 15,
     "metadata": {},
     "output_type": "execute_result"
    }
   ],
   "source": [
    "screen_med01 == screen_med02"
   ]
  },
  {
   "cell_type": "markdown",
   "id": "7716563d-0263-400b-99c3-1e5275a91e49",
   "metadata": {},
   "source": [
    "Question 06 Answer= Yes"
   ]
  },
  {
   "cell_type": "markdown",
   "id": "afd03298-e838-446c-9b1b-82cef275378f",
   "metadata": {},
   "source": [
    "### Q7. Sum of weights\n",
    "\n",
    "1. Select all the \"Innjoo\" laptops from the dataset.\n",
    "2. Select only columns `RAM`, `Storage`, `Screen`.\n",
    "3. Get the underlying NumPy array. Let's call it `X`.\n",
    "4. Compute matrix-matrix multiplication between the transpose of `X` and `X`. To get the transpose, use `X.T`. Let's call the result `XTX`.\n",
    "5. Compute the inverse of `XTX`.\n",
    "6. Create an array `y` with values `[1100, 1300, 800, 900, 1000, 1100]`.\n",
    "7. Multiply the inverse of `XTX` with the transpose of `X`, and then multiply the result by `y`. Call the result `w`.\n",
    "8. What's the sum of all the elements of the result?\n",
    "\n",
    "> **Note**: You just implemented linear regression. We'll talk about it in the next lesson.\n",
    "\n",
    "- 0.43\n",
    "- 45.29\n",
    "- 45.58\n",
    "- 91.30"
   ]
  },
  {
   "cell_type": "code",
   "execution_count": 16,
   "id": "ff17d610-d092-49cd-9c10-920107047f75",
   "metadata": {},
   "outputs": [
    {
     "data": {
      "text/html": [
       "<div>\n",
       "<style scoped>\n",
       "    .dataframe tbody tr th:only-of-type {\n",
       "        vertical-align: middle;\n",
       "    }\n",
       "\n",
       "    .dataframe tbody tr th {\n",
       "        vertical-align: top;\n",
       "    }\n",
       "\n",
       "    .dataframe thead th {\n",
       "        text-align: right;\n",
       "    }\n",
       "</style>\n",
       "<table border=\"1\" class=\"dataframe\">\n",
       "  <thead>\n",
       "    <tr style=\"text-align: right;\">\n",
       "      <th></th>\n",
       "      <th>Laptop</th>\n",
       "      <th>Status</th>\n",
       "      <th>Brand</th>\n",
       "      <th>Model</th>\n",
       "      <th>CPU</th>\n",
       "      <th>RAM</th>\n",
       "      <th>Storage</th>\n",
       "      <th>Storage type</th>\n",
       "      <th>GPU</th>\n",
       "      <th>Screen</th>\n",
       "      <th>Touch</th>\n",
       "      <th>Final Price</th>\n",
       "    </tr>\n",
       "  </thead>\n",
       "  <tbody>\n",
       "    <tr>\n",
       "      <th>1478</th>\n",
       "      <td>InnJoo Voom Excellence Intel Celeron N4020/8GB...</td>\n",
       "      <td>New</td>\n",
       "      <td>Innjoo</td>\n",
       "      <td>Voom</td>\n",
       "      <td>Intel Celeron</td>\n",
       "      <td>8</td>\n",
       "      <td>256</td>\n",
       "      <td>SSD</td>\n",
       "      <td>NaN</td>\n",
       "      <td>15.6</td>\n",
       "      <td>No</td>\n",
       "      <td>311.37</td>\n",
       "    </tr>\n",
       "    <tr>\n",
       "      <th>1479</th>\n",
       "      <td>InnJoo Voom Excellence Pro Intel Celeron N4020...</td>\n",
       "      <td>New</td>\n",
       "      <td>Innjoo</td>\n",
       "      <td>Voom</td>\n",
       "      <td>Intel Celeron</td>\n",
       "      <td>8</td>\n",
       "      <td>512</td>\n",
       "      <td>SSD</td>\n",
       "      <td>NaN</td>\n",
       "      <td>15.6</td>\n",
       "      <td>No</td>\n",
       "      <td>392.55</td>\n",
       "    </tr>\n",
       "    <tr>\n",
       "      <th>1480</th>\n",
       "      <td>Innjoo Voom Intel Celeron N3350/4GB/64GB eMMC/...</td>\n",
       "      <td>New</td>\n",
       "      <td>Innjoo</td>\n",
       "      <td>Voom</td>\n",
       "      <td>Intel Celeron</td>\n",
       "      <td>4</td>\n",
       "      <td>64</td>\n",
       "      <td>eMMC</td>\n",
       "      <td>NaN</td>\n",
       "      <td>14.1</td>\n",
       "      <td>No</td>\n",
       "      <td>251.40</td>\n",
       "    </tr>\n",
       "    <tr>\n",
       "      <th>1481</th>\n",
       "      <td>Innjoo Voom Laptop Max Intel Celeron N3350/6GB...</td>\n",
       "      <td>New</td>\n",
       "      <td>Innjoo</td>\n",
       "      <td>Voom</td>\n",
       "      <td>Intel Celeron</td>\n",
       "      <td>6</td>\n",
       "      <td>64</td>\n",
       "      <td>eMMC</td>\n",
       "      <td>NaN</td>\n",
       "      <td>14.1</td>\n",
       "      <td>No</td>\n",
       "      <td>383.61</td>\n",
       "    </tr>\n",
       "    <tr>\n",
       "      <th>1482</th>\n",
       "      <td>Innjoo Voom Laptop Pro Intel Celeron N3350/6GB...</td>\n",
       "      <td>New</td>\n",
       "      <td>Innjoo</td>\n",
       "      <td>Voom</td>\n",
       "      <td>Intel Celeron</td>\n",
       "      <td>6</td>\n",
       "      <td>128</td>\n",
       "      <td>SSD</td>\n",
       "      <td>NaN</td>\n",
       "      <td>14.1</td>\n",
       "      <td>No</td>\n",
       "      <td>317.02</td>\n",
       "    </tr>\n",
       "    <tr>\n",
       "      <th>1483</th>\n",
       "      <td>Innjoo Voom Pro Intel Celeron N3350/6GB/128GB ...</td>\n",
       "      <td>New</td>\n",
       "      <td>Innjoo</td>\n",
       "      <td>Voom</td>\n",
       "      <td>Intel Celeron</td>\n",
       "      <td>6</td>\n",
       "      <td>128</td>\n",
       "      <td>eMMC</td>\n",
       "      <td>NaN</td>\n",
       "      <td>14.1</td>\n",
       "      <td>No</td>\n",
       "      <td>431.38</td>\n",
       "    </tr>\n",
       "  </tbody>\n",
       "</table>\n",
       "</div>"
      ],
      "text/plain": [
       "                                                 Laptop Status   Brand Model  \\\n",
       "1478  InnJoo Voom Excellence Intel Celeron N4020/8GB...    New  Innjoo  Voom   \n",
       "1479  InnJoo Voom Excellence Pro Intel Celeron N4020...    New  Innjoo  Voom   \n",
       "1480  Innjoo Voom Intel Celeron N3350/4GB/64GB eMMC/...    New  Innjoo  Voom   \n",
       "1481  Innjoo Voom Laptop Max Intel Celeron N3350/6GB...    New  Innjoo  Voom   \n",
       "1482  Innjoo Voom Laptop Pro Intel Celeron N3350/6GB...    New  Innjoo  Voom   \n",
       "1483  Innjoo Voom Pro Intel Celeron N3350/6GB/128GB ...    New  Innjoo  Voom   \n",
       "\n",
       "                CPU  RAM  Storage Storage type  GPU  Screen Touch  Final Price  \n",
       "1478  Intel Celeron    8      256          SSD  NaN    15.6    No       311.37  \n",
       "1479  Intel Celeron    8      512          SSD  NaN    15.6    No       392.55  \n",
       "1480  Intel Celeron    4       64         eMMC  NaN    14.1    No       251.40  \n",
       "1481  Intel Celeron    6       64         eMMC  NaN    14.1    No       383.61  \n",
       "1482  Intel Celeron    6      128          SSD  NaN    14.1    No       317.02  \n",
       "1483  Intel Celeron    6      128         eMMC  NaN    14.1    No       431.38  "
      ]
     },
     "execution_count": 16,
     "metadata": {},
     "output_type": "execute_result"
    }
   ],
   "source": [
    "# Select all the \"Innjoo\" laptops from the dataset.\n",
    "data_Innjoo = data[data.Brand == \"Innjoo\"]\n",
    "data_Innjoo"
   ]
  },
  {
   "cell_type": "code",
   "execution_count": 17,
   "id": "e0ed8900-f3a3-426c-b3d6-0475e196df5d",
   "metadata": {},
   "outputs": [
    {
     "data": {
      "text/html": [
       "<div>\n",
       "<style scoped>\n",
       "    .dataframe tbody tr th:only-of-type {\n",
       "        vertical-align: middle;\n",
       "    }\n",
       "\n",
       "    .dataframe tbody tr th {\n",
       "        vertical-align: top;\n",
       "    }\n",
       "\n",
       "    .dataframe thead th {\n",
       "        text-align: right;\n",
       "    }\n",
       "</style>\n",
       "<table border=\"1\" class=\"dataframe\">\n",
       "  <thead>\n",
       "    <tr style=\"text-align: right;\">\n",
       "      <th></th>\n",
       "      <th>RAM</th>\n",
       "      <th>Storage</th>\n",
       "      <th>Screen</th>\n",
       "    </tr>\n",
       "  </thead>\n",
       "  <tbody>\n",
       "    <tr>\n",
       "      <th>1478</th>\n",
       "      <td>8</td>\n",
       "      <td>256</td>\n",
       "      <td>15.6</td>\n",
       "    </tr>\n",
       "    <tr>\n",
       "      <th>1479</th>\n",
       "      <td>8</td>\n",
       "      <td>512</td>\n",
       "      <td>15.6</td>\n",
       "    </tr>\n",
       "    <tr>\n",
       "      <th>1480</th>\n",
       "      <td>4</td>\n",
       "      <td>64</td>\n",
       "      <td>14.1</td>\n",
       "    </tr>\n",
       "    <tr>\n",
       "      <th>1481</th>\n",
       "      <td>6</td>\n",
       "      <td>64</td>\n",
       "      <td>14.1</td>\n",
       "    </tr>\n",
       "    <tr>\n",
       "      <th>1482</th>\n",
       "      <td>6</td>\n",
       "      <td>128</td>\n",
       "      <td>14.1</td>\n",
       "    </tr>\n",
       "    <tr>\n",
       "      <th>1483</th>\n",
       "      <td>6</td>\n",
       "      <td>128</td>\n",
       "      <td>14.1</td>\n",
       "    </tr>\n",
       "  </tbody>\n",
       "</table>\n",
       "</div>"
      ],
      "text/plain": [
       "      RAM  Storage  Screen\n",
       "1478    8      256    15.6\n",
       "1479    8      512    15.6\n",
       "1480    4       64    14.1\n",
       "1481    6       64    14.1\n",
       "1482    6      128    14.1\n",
       "1483    6      128    14.1"
      ]
     },
     "execution_count": 17,
     "metadata": {},
     "output_type": "execute_result"
    }
   ],
   "source": [
    "# Select only columns RAM, Storage, Screen from df_Innjoo.\n",
    "data_select = data_Innjoo[['RAM', 'Storage', 'Screen']]\n",
    "data_select"
   ]
  },
  {
   "cell_type": "code",
   "execution_count": 18,
   "id": "f30bb9a0-197d-44a7-9c04-54a97c65bdba",
   "metadata": {},
   "outputs": [
    {
     "data": {
      "text/plain": [
       "array([[  8. , 256. ,  15.6],\n",
       "       [  8. , 512. ,  15.6],\n",
       "       [  4. ,  64. ,  14.1],\n",
       "       [  6. ,  64. ,  14.1],\n",
       "       [  6. , 128. ,  14.1],\n",
       "       [  6. , 128. ,  14.1]])"
      ]
     },
     "execution_count": 18,
     "metadata": {},
     "output_type": "execute_result"
    }
   ],
   "source": [
    "# Use data_select to create a matrix.\n",
    "X = data_select.values\n",
    "X"
   ]
  },
  {
   "cell_type": "code",
   "execution_count": 19,
   "id": "aa5bbde6-d78f-432e-8ee2-266f838d3e09",
   "metadata": {},
   "outputs": [
    {
     "data": {
      "text/plain": [
       "array([[2.52000e+02, 8.32000e+03, 5.59800e+02],\n",
       "       [8.32000e+03, 3.68640e+05, 1.73952e+04],\n",
       "       [5.59800e+02, 1.73952e+04, 1.28196e+03]])"
      ]
     },
     "execution_count": 19,
     "metadata": {},
     "output_type": "execute_result"
    }
   ],
   "source": [
    "# Compute the transpose of X.\n",
    "XTX = X.T @ X\n",
    "XTX"
   ]
  },
  {
   "cell_type": "code",
   "execution_count": 20,
   "id": "899b04d7-17dc-462e-a77e-6a9b6006c877",
   "metadata": {},
   "outputs": [
    {
     "data": {
      "text/plain": [
       "array([[ 2.78025381e-01, -1.51791334e-03, -1.00809855e-01],\n",
       "       [-1.51791334e-03,  1.58286725e-05,  4.48052175e-04],\n",
       "       [-1.00809855e-01,  4.48052175e-04,  3.87214888e-02]])"
      ]
     },
     "execution_count": 20,
     "metadata": {},
     "output_type": "execute_result"
    }
   ],
   "source": [
    "# Compute the inverse of X.\n",
    "XTX_inv = np.linalg.inv(XTX)\n",
    "XTX_inv"
   ]
  },
  {
   "cell_type": "code",
   "execution_count": 21,
   "id": "030a790c-8fb9-4efe-8e5e-c6a25290cbe1",
   "metadata": {},
   "outputs": [],
   "source": [
    "# Create the array y.\n",
    "y = np.array([1100, 1300, 800, 900, 1000, 1100])"
   ]
  },
  {
   "cell_type": "code",
   "execution_count": 22,
   "id": "99ca9051-add7-49d3-8d06-a2f1eccf315d",
   "metadata": {},
   "outputs": [
    {
     "data": {
      "text/plain": [
       "array([45.58076606,  0.42783519, 45.29127938])"
      ]
     },
     "execution_count": 22,
     "metadata": {},
     "output_type": "execute_result"
    }
   ],
   "source": [
    "# Compute w\n",
    "w = (XTX_inv @ X.T) @ y\n",
    "w"
   ]
  },
  {
   "cell_type": "markdown",
   "id": "f2e6d7b7-0bf3-4898-896a-81e7c79d96b4",
   "metadata": {},
   "source": [
    "#### 1. The Goal: We are trying to find the weights (w) for a line (or plane, etc.) that best fits the data we have. These weights tell us how much each feature (variable) affects the outcome we're predicting.\n",
    "\n",
    "- 2. The Formula:\n",
    "\n",
    "- w = (XTX_inv @ X.T) @ y\n",
    "#### Here:\n",
    "- X represents your input data (all the variables or features).\n",
    "- y represents the output or target values you’re trying to predict.\n",
    "- X.T is the transpose of X, essentially flipping its rows and columns.\n",
    "- XTX_inv is the inverse of the product of X.T and X.\n",
    "- This formula computes the best weights (w) for each feature to minimize errors in predictions.\n",
    "\n",
    "#### 3. The Result:\n",
    "\n",
    "- array([45.58076606, 0.42783519, 45.29127938]) shows the calculated weights for each feature.\n",
    "- Each number in this array represents how much each respective feature affects the outcome:\n",
    "- 45.58076606 is the effect of the first feature.\n",
    "- 0.42783519 is the effect of the second feature (it has a very small impact).\n",
    "- 45.29127938 is the effect of the third feature.\n",
    "\n",
    "In summary, these weights tell us the influence of each variable in the data on the outcome, and by applying them, we get a model to make predictions on new data.\n",
    "\n",
    "\n",
    "\n",
    "\n",
    "\n",
    "\n"
   ]
  },
  {
   "cell_type": "code",
   "execution_count": 23,
   "id": "342319ad-ee38-49b9-af6f-a28bd65a8e6f",
   "metadata": {},
   "outputs": [
    {
     "data": {
      "text/plain": [
       "91.29988062995815"
      ]
     },
     "execution_count": 23,
     "metadata": {},
     "output_type": "execute_result"
    }
   ],
   "source": [
    "# Sum all the elements of w.\n",
    "w.sum()"
   ]
  },
  {
   "cell_type": "markdown",
   "id": "3abfe19f-2901-4d88-a6be-9f488b26d6ab",
   "metadata": {},
   "source": [
    "Question 07 Answer= 91.30"
   ]
  },
  {
   "cell_type": "markdown",
   "id": "baba73a9-cace-4c7a-b2fb-ce11032a0d94",
   "metadata": {},
   "source": [
    "### Task Discussion\n",
    ">The tasks include:\n",
    "\n",
    "-  Setting Up the Environment: Ensuring the installation and compatibility of essential Python libraries like Pandas and NumPy.\n",
    "-  Basic Data Analysis: Performing simple operations to understand data handling in Pandas, including checking versions and executing initial commands.\n",
    "-  Visualization: Using Matplotlib and Seaborn to explore the data visually, which is crucial for understanding underlying data trends and preparing for model building.\n",
    "\n",
    "In summary, through this task, I practiced setting up a data science environment and performed initial data manipulation tasks. This foundational setup is critical for progressing to more complex machine learning tasks, laying a groundwork for efficient data handling, visualization, and analysis."
   ]
  }
 ],
 "metadata": {
  "kernelspec": {
   "display_name": "Python 3 (ipykernel)",
   "language": "python",
   "name": "python3"
  },
  "language_info": {
   "codemirror_mode": {
    "name": "ipython",
    "version": 3
   },
   "file_extension": ".py",
   "mimetype": "text/x-python",
   "name": "python",
   "nbconvert_exporter": "python",
   "pygments_lexer": "ipython3",
   "version": "3.12.4"
  }
 },
 "nbformat": 4,
 "nbformat_minor": 5
}
